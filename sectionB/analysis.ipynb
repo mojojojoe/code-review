{
 "cells": [
  {
   "cell_type": "markdown",
   "metadata": {
    "slideshow": {
     "slide_type": "slide"
    }
   },
   "source": [
    "# Corporate takeovers in Africa (2016-2021)"
   ]
  },
  {
   "cell_type": "markdown",
   "metadata": {
    "slideshow": {
     "slide_type": "slide"
    }
   },
   "source": [
    "This is confidential data. The data is a list of all the mergers and acquisitions announced in Africa over a period of time (2016-2021). There is no quantitative data. The information is a listing containing the names of the target and aquiror companies, their sectors and nation of domicile. The analysis is done by grouping the categories and counting line numbers. There are some interesting insights that would be of benefit to researchers and decision makers, whether in government or the private sector."
   ]
  },
  {
   "cell_type": "markdown",
   "metadata": {
    "slideshow": {
     "slide_type": "fragment"
    }
   },
   "source": [
    "This notebook is written in R. The libraries used are loaded first."
   ]
  },
  {
   "cell_type": "code",
   "execution_count": 4,
   "metadata": {
    "slideshow": {
     "slide_type": "subslide"
    }
   },
   "outputs": [
    {
     "name": "stderr",
     "output_type": "stream",
     "text": [
      "── \u001b[1mAttaching packages\u001b[22m ─────────────────────────────────────── tidyverse 1.3.1 ──\n",
      "\n",
      "\u001b[32m✔\u001b[39m \u001b[34mggplot2\u001b[39m 3.3.3     \u001b[32m✔\u001b[39m \u001b[34mpurrr  \u001b[39m 0.3.4\n",
      "\u001b[32m✔\u001b[39m \u001b[34mtibble \u001b[39m 3.1.1     \u001b[32m✔\u001b[39m \u001b[34mdplyr  \u001b[39m 1.0.5\n",
      "\u001b[32m✔\u001b[39m \u001b[34mtidyr  \u001b[39m 1.1.3     \u001b[32m✔\u001b[39m \u001b[34mstringr\u001b[39m 1.4.0\n",
      "\u001b[32m✔\u001b[39m \u001b[34mreadr  \u001b[39m 1.4.0     \u001b[32m✔\u001b[39m \u001b[34mforcats\u001b[39m 0.5.1\n",
      "\n",
      "── \u001b[1mConflicts\u001b[22m ────────────────────────────────────────── tidyverse_conflicts() ──\n",
      "\u001b[31m✖\u001b[39m \u001b[34mdplyr\u001b[39m::\u001b[32mfilter()\u001b[39m masks \u001b[34mstats\u001b[39m::filter()\n",
      "\u001b[31m✖\u001b[39m \u001b[34mdplyr\u001b[39m::\u001b[32mlag()\u001b[39m    masks \u001b[34mstats\u001b[39m::lag()\n",
      "\n",
      "Loading required package: graph\n",
      "\n",
      "Loading required package: BiocGenerics\n",
      "\n",
      "Loading required package: parallel\n",
      "\n",
      "\n",
      "Attaching package: ‘BiocGenerics’\n",
      "\n",
      "\n",
      "The following objects are masked from ‘package:parallel’:\n",
      "\n",
      "    clusterApply, clusterApplyLB, clusterCall, clusterEvalQ,\n",
      "    clusterExport, clusterMap, parApply, parCapply, parLapply,\n",
      "    parLapplyLB, parRapply, parSapply, parSapplyLB\n",
      "\n",
      "\n",
      "The following objects are masked from ‘package:dplyr’:\n",
      "\n",
      "    combine, intersect, setdiff, union\n",
      "\n",
      "\n",
      "The following objects are masked from ‘package:stats’:\n",
      "\n",
      "    IQR, mad, sd, var, xtabs\n",
      "\n",
      "\n",
      "The following objects are masked from ‘package:base’:\n",
      "\n",
      "    anyDuplicated, append, as.data.frame, basename, cbind, colnames,\n",
      "    dirname, do.call, duplicated, eval, evalq, Filter, Find, get, grep,\n",
      "    grepl, intersect, is.unsorted, lapply, Map, mapply, match, mget,\n",
      "    order, paste, pmax, pmax.int, pmin, pmin.int, Position, rank,\n",
      "    rbind, Reduce, rownames, sapply, setdiff, sort, table, tapply,\n",
      "    union, unique, unsplit, which, which.max, which.min\n",
      "\n",
      "\n",
      "\n",
      "Attaching package: ‘graph’\n",
      "\n",
      "\n",
      "The following object is masked from ‘package:stringr’:\n",
      "\n",
      "    boundary\n",
      "\n",
      "\n",
      "Loading required package: grid\n",
      "\n"
     ]
    }
   ],
   "source": [
    "library(tidyverse);\n",
    "library(Rgraphviz)"
   ]
  },
  {
   "cell_type": "markdown",
   "metadata": {},
   "source": [
    "Then the data is loaded."
   ]
  },
  {
   "cell_type": "code",
   "execution_count": 5,
   "metadata": {},
   "outputs": [
    {
     "data": {
      "text/html": [
       "<table class=\"dataframe\">\n",
       "<caption>A tibble: 1 × 30</caption>\n",
       "<thead>\n",
       "\t<tr><th scope=col>DateAnnounced</th><th scope=col>DateEffective</th><th scope=col>Target.nam</th><th scope=col>Target.nat</th><th scope=col>Target.sector</th><th scope=col>Target</th><th scope=col>Target.desc</th><th scope=col>Acquiror.nam</th><th scope=col>Acquiror.nat</th><th scope=col>Acquiror.sec</th><th scope=col>⋯</th><th scope=col>Target\n",
       "Macro\n",
       "Industry</th><th scope=col>Acquiror\n",
       "Macro\n",
       "Industry</th><th scope=col>Investor</th><th scope=col>Investor\n",
       "Immediate\n",
       "Parent\n",
       "Name</th><th scope=col>Investor\n",
       "Ultimate\n",
       "Parent\n",
       "Name</th><th scope=col>Seller\n",
       "Immediate\n",
       "Parent\n",
       "Name</th><th scope=col>Seller\n",
       "Ultimate\n",
       "Parent\n",
       "Name</th><th scope=col>Acquisition Technique</th><th scope=col>Form</th><th scope=col>Master\n",
       " Deal\n",
       " Type</th></tr>\n",
       "\t<tr><th scope=col>&lt;dttm&gt;</th><th scope=col>&lt;chr&gt;</th><th scope=col>&lt;chr&gt;</th><th scope=col>&lt;chr&gt;</th><th scope=col>&lt;chr&gt;</th><th scope=col>&lt;chr&gt;</th><th scope=col>&lt;chr&gt;</th><th scope=col>&lt;chr&gt;</th><th scope=col>&lt;chr&gt;</th><th scope=col>&lt;chr&gt;</th><th scope=col>⋯</th><th scope=col>&lt;chr&gt;</th><th scope=col>&lt;chr&gt;</th><th scope=col>&lt;chr&gt;</th><th scope=col>&lt;chr&gt;</th><th scope=col>&lt;chr&gt;</th><th scope=col>&lt;chr&gt;</th><th scope=col>&lt;chr&gt;</th><th scope=col>&lt;chr&gt;</th><th scope=col>&lt;chr&gt;</th><th scope=col>&lt;chr&gt;</th></tr>\n",
       "</thead>\n",
       "<tbody>\n",
       "\t<tr><td>2021-04-27</td><td>44313</td><td>Dragonfly Aerospace</td><td>South Africa</td><td>Telecommunications Equipment</td><td>-</td><td>Dragonfly Aerospace is a\n",
       "manufacturer of wireless\n",
       "communications equipment.\n",
       "The company design and build\n",
       "compact high-performance\n",
       "imaging payloads and\n",
       "satellites. The Company is\n",
       "located in Stellenbosch,\n",
       "South Africa.</td><td>Max Polyakov</td><td>Ukraine</td><td>Other Financials</td><td>⋯</td><td>Telecommunications</td><td>Financials</td><td>-</td><td>-</td><td>-</td><td>-</td><td>-</td><td>Not Applicable</td><td>Acq. of Assets</td><td>IMA</td></tr>\n",
       "</tbody>\n",
       "</table>\n"
      ],
      "text/latex": [
       "A tibble: 1 × 30\n",
       "\\begin{tabular}{lllllllllllllllllllll}\n",
       " DateAnnounced & DateEffective & Target.nam & Target.nat & Target.sector & Target & Target.desc & Acquiror.nam & Acquiror.nat & Acquiror.sec & ⋯ & Target\n",
       "Macro\n",
       "Industry & Acquiror\n",
       "Macro\n",
       "Industry & Investor & Investor\n",
       "Immediate\n",
       "Parent\n",
       "Name & Investor\n",
       "Ultimate\n",
       "Parent\n",
       "Name & Seller\n",
       "Immediate\n",
       "Parent\n",
       "Name & Seller\n",
       "Ultimate\n",
       "Parent\n",
       "Name & Acquisition Technique & Form & Master\n",
       " Deal\n",
       " Type\\\\\n",
       " <dttm> & <chr> & <chr> & <chr> & <chr> & <chr> & <chr> & <chr> & <chr> & <chr> & ⋯ & <chr> & <chr> & <chr> & <chr> & <chr> & <chr> & <chr> & <chr> & <chr> & <chr>\\\\\n",
       "\\hline\n",
       "\t 2021-04-27 & 44313 & Dragonfly Aerospace & South Africa & Telecommunications Equipment & - & Dragonfly Aerospace is a\n",
       "manufacturer of wireless\n",
       "communications equipment.\n",
       "The company design and build\n",
       "compact high-performance\n",
       "imaging payloads and\n",
       "satellites. The Company is\n",
       "located in Stellenbosch,\n",
       "South Africa. & Max Polyakov & Ukraine & Other Financials & ⋯ & Telecommunications & Financials & - & - & - & - & - & Not Applicable & Acq. of Assets & IMA\\\\\n",
       "\\end{tabular}\n"
      ],
      "text/markdown": [
       "\n",
       "A tibble: 1 × 30\n",
       "\n",
       "| DateAnnounced &lt;dttm&gt; | DateEffective &lt;chr&gt; | Target.nam &lt;chr&gt; | Target.nat &lt;chr&gt; | Target.sector &lt;chr&gt; | Target &lt;chr&gt; | Target.desc &lt;chr&gt; | Acquiror.nam &lt;chr&gt; | Acquiror.nat &lt;chr&gt; | Acquiror.sec &lt;chr&gt; | ⋯ ⋯ | Target\n",
       "Macro\n",
       "Industry &lt;chr&gt; | Acquiror\n",
       "Macro\n",
       "Industry &lt;chr&gt; | Investor &lt;chr&gt; | Investor\n",
       "Immediate\n",
       "Parent\n",
       "Name &lt;chr&gt; | Investor\n",
       "Ultimate\n",
       "Parent\n",
       "Name &lt;chr&gt; | Seller\n",
       "Immediate\n",
       "Parent\n",
       "Name &lt;chr&gt; | Seller\n",
       "Ultimate\n",
       "Parent\n",
       "Name &lt;chr&gt; | Acquisition Technique &lt;chr&gt; | Form &lt;chr&gt; | Master\n",
       " Deal\n",
       " Type &lt;chr&gt; |\n",
       "|---|---|---|---|---|---|---|---|---|---|---|---|---|---|---|---|---|---|---|---|---|\n",
       "| 2021-04-27 | 44313 | Dragonfly Aerospace | South Africa | Telecommunications Equipment | - | Dragonfly Aerospace is a\n",
       "manufacturer of wireless\n",
       "communications equipment.\n",
       "The company design and build\n",
       "compact high-performance\n",
       "imaging payloads and\n",
       "satellites. The Company is\n",
       "located in Stellenbosch,\n",
       "South Africa. | Max Polyakov | Ukraine | Other Financials | ⋯ | Telecommunications | Financials | - | - | - | - | - | Not Applicable | Acq. of Assets | IMA |\n",
       "\n"
      ],
      "text/plain": [
       "  DateAnnounced DateEffective Target.nam          Target.nat  \n",
       "1 2021-04-27    44313         Dragonfly Aerospace South Africa\n",
       "  Target.sector                Target\n",
       "1 Telecommunications Equipment -     \n",
       "  Target.desc                                                                                                                                                                                                                     \n",
       "1 Dragonfly Aerospace is a\\nmanufacturer of wireless\\ncommunications equipment.\\nThe company design and build\\ncompact high-performance\\nimaging payloads and\\nsatellites. The Company is\\nlocated in Stellenbosch,\\nSouth Africa.\n",
       "  Acquiror.nam Acquiror.nat Acquiror.sec     ⋯ Target\\nMacro\\nIndustry\n",
       "1 Max Polyakov Ukraine      Other Financials ⋯ Telecommunications     \n",
       "  Acquiror\\nMacro\\nIndustry Investor Investor\\nImmediate\\nParent\\nName\n",
       "1 Financials                -        -                                \n",
       "  Investor\\nUltimate\\nParent\\nName Seller\\nImmediate\\nParent\\nName\n",
       "1 -                                -                              \n",
       "  Seller\\nUltimate\\nParent\\nName Acquisition Technique Form          \n",
       "1 -                              Not Applicable        Acq. of Assets\n",
       "  Master\\n Deal\\n Type\n",
       "1 IMA                 "
      ]
     },
     "metadata": {},
     "output_type": "display_data"
    }
   ],
   "source": [
    "data <- readxl::read_xls(\"resources/data.xls\");head(data,1)"
   ]
  },
  {
   "cell_type": "markdown",
   "metadata": {},
   "source": [
    "The relevant columns are selected and extracted into a tibble (a table) named \"takeover\"."
   ]
  },
  {
   "cell_type": "code",
   "execution_count": 6,
   "metadata": {},
   "outputs": [
    {
     "data": {
      "text/html": [
       "<table class=\"dataframe\">\n",
       "<caption>A tibble: 3 × 7</caption>\n",
       "<thead>\n",
       "\t<tr><th scope=col>dt</th><th scope=col>t.nam</th><th scope=col>a.nam</th><th scope=col>t.sec</th><th scope=col>a.sec</th><th scope=col>t.nat</th><th scope=col>a.nat</th></tr>\n",
       "\t<tr><th scope=col>&lt;dttm&gt;</th><th scope=col>&lt;chr&gt;</th><th scope=col>&lt;chr&gt;</th><th scope=col>&lt;chr&gt;</th><th scope=col>&lt;chr&gt;</th><th scope=col>&lt;chr&gt;</th><th scope=col>&lt;chr&gt;</th></tr>\n",
       "</thead>\n",
       "<tbody>\n",
       "\t<tr><td>2021-04-27</td><td>Dragonfly Aerospace  </td><td>Max Polyakov              </td><td>Telecommunications Equipment</td><td>Other Financials</td><td>South Africa</td><td>Ukraine       </td></tr>\n",
       "\t<tr><td>2021-04-20</td><td>Adapt IT Holdings Ltd</td><td>Blacksheep Master Fund Ltd</td><td><span style=white-space:pre-wrap>IT Consulting &amp; Services    </span></td><td>Other Financials</td><td>South Africa</td><td>Cayman Islands</td></tr>\n",
       "\t<tr><td>2021-04-19</td><td>Millicom Tanzania Ltd</td><td>Axian Group               </td><td>Wireless                    </td><td>Other Financials</td><td>Tanzania    </td><td>Madagascar    </td></tr>\n",
       "</tbody>\n",
       "</table>\n"
      ],
      "text/latex": [
       "A tibble: 3 × 7\n",
       "\\begin{tabular}{lllllll}\n",
       " dt & t.nam & a.nam & t.sec & a.sec & t.nat & a.nat\\\\\n",
       " <dttm> & <chr> & <chr> & <chr> & <chr> & <chr> & <chr>\\\\\n",
       "\\hline\n",
       "\t 2021-04-27 & Dragonfly Aerospace   & Max Polyakov               & Telecommunications Equipment & Other Financials & South Africa & Ukraine       \\\\\n",
       "\t 2021-04-20 & Adapt IT Holdings Ltd & Blacksheep Master Fund Ltd & IT Consulting \\& Services     & Other Financials & South Africa & Cayman Islands\\\\\n",
       "\t 2021-04-19 & Millicom Tanzania Ltd & Axian Group                & Wireless                     & Other Financials & Tanzania     & Madagascar    \\\\\n",
       "\\end{tabular}\n"
      ],
      "text/markdown": [
       "\n",
       "A tibble: 3 × 7\n",
       "\n",
       "| dt &lt;dttm&gt; | t.nam &lt;chr&gt; | a.nam &lt;chr&gt; | t.sec &lt;chr&gt; | a.sec &lt;chr&gt; | t.nat &lt;chr&gt; | a.nat &lt;chr&gt; |\n",
       "|---|---|---|---|---|---|---|\n",
       "| 2021-04-27 | Dragonfly Aerospace   | Max Polyakov               | Telecommunications Equipment | Other Financials | South Africa | Ukraine        |\n",
       "| 2021-04-20 | Adapt IT Holdings Ltd | Blacksheep Master Fund Ltd | IT Consulting &amp; Services     | Other Financials | South Africa | Cayman Islands |\n",
       "| 2021-04-19 | Millicom Tanzania Ltd | Axian Group                | Wireless                     | Other Financials | Tanzania     | Madagascar     |\n",
       "\n"
      ],
      "text/plain": [
       "  dt         t.nam                 a.nam                     \n",
       "1 2021-04-27 Dragonfly Aerospace   Max Polyakov              \n",
       "2 2021-04-20 Adapt IT Holdings Ltd Blacksheep Master Fund Ltd\n",
       "3 2021-04-19 Millicom Tanzania Ltd Axian Group               \n",
       "  t.sec                        a.sec            t.nat        a.nat         \n",
       "1 Telecommunications Equipment Other Financials South Africa Ukraine       \n",
       "2 IT Consulting & Services     Other Financials South Africa Cayman Islands\n",
       "3 Wireless                     Other Financials Tanzania     Madagascar    "
      ]
     },
     "metadata": {},
     "output_type": "display_data"
    }
   ],
   "source": [
    "takeovers <- data %>% \n",
    "    select(dt=DateAnnounced,\n",
    "           t.nam=Target.nam, \n",
    "           a.nam=Acquiror.nam, \n",
    "           t.sec=Target.sector,\n",
    "           a.sec=Acquiror.sec, \n",
    "           t.nat=Target.nat, \n",
    "           a.nat=Acquiror.nat);\n",
    "\n",
    "head(takeovers,3)"
   ]
  },
  {
   "cell_type": "markdown",
   "metadata": {},
   "source": [
    "Other than white space around entries (which should be cleaned up), the data looks fine."
   ]
  },
  {
   "cell_type": "markdown",
   "metadata": {},
   "source": [
    "To start with the analysis, look at the per nation acquisitions in Africa. Only nations with 3 or more takeovers are considered."
   ]
  },
  {
   "cell_type": "code",
   "execution_count": 5,
   "metadata": {},
   "outputs": [
    {
     "data": {
      "text/html": [
       "<table class=\"dataframe\">\n",
       "<caption>A tibble: 20 × 2</caption>\n",
       "<thead>\n",
       "\t<tr><th scope=col>Acquiror nation</th><th scope=col>Count</th></tr>\n",
       "\t<tr><th scope=col>&lt;chr&gt;</th><th scope=col>&lt;int&gt;</th></tr>\n",
       "</thead>\n",
       "<tbody>\n",
       "\t<tr><td>United States </td><td>40</td></tr>\n",
       "\t<tr><td>South Africa  </td><td>35</td></tr>\n",
       "\t<tr><td>United Kingdom</td><td>31</td></tr>\n",
       "\t<tr><td>France        </td><td>19</td></tr>\n",
       "\t<tr><td>Mauritius     </td><td>13</td></tr>\n",
       "\t<tr><td>Morocco       </td><td> 7</td></tr>\n",
       "\t<tr><td>Namibia       </td><td> 6</td></tr>\n",
       "\t<tr><td>Netherlands   </td><td> 6</td></tr>\n",
       "\t<tr><td>Switzerland   </td><td> 5</td></tr>\n",
       "\t<tr><td>Utd Arab Em   </td><td> 5</td></tr>\n",
       "\t<tr><td>Australia     </td><td> 4</td></tr>\n",
       "\t<tr><td>Canada        </td><td> 4</td></tr>\n",
       "\t<tr><td>Egypt         </td><td> 4</td></tr>\n",
       "\t<tr><td>Germany       </td><td> 4</td></tr>\n",
       "\t<tr><td>Hong Kong     </td><td> 4</td></tr>\n",
       "\t<tr><td>Malaysia      </td><td> 4</td></tr>\n",
       "\t<tr><td>India         </td><td> 3</td></tr>\n",
       "\t<tr><td>Ivory Coast   </td><td> 3</td></tr>\n",
       "\t<tr><td>Nigeria       </td><td> 3</td></tr>\n",
       "\t<tr><td>Zimbabwe      </td><td> 3</td></tr>\n",
       "</tbody>\n",
       "</table>\n"
      ],
      "text/latex": [
       "A tibble: 20 × 2\n",
       "\\begin{tabular}{ll}\n",
       " Acquiror nation & Count\\\\\n",
       " <chr> & <int>\\\\\n",
       "\\hline\n",
       "\t United States  & 40\\\\\n",
       "\t South Africa   & 35\\\\\n",
       "\t United Kingdom & 31\\\\\n",
       "\t France         & 19\\\\\n",
       "\t Mauritius      & 13\\\\\n",
       "\t Morocco        &  7\\\\\n",
       "\t Namibia        &  6\\\\\n",
       "\t Netherlands    &  6\\\\\n",
       "\t Switzerland    &  5\\\\\n",
       "\t Utd Arab Em    &  5\\\\\n",
       "\t Australia      &  4\\\\\n",
       "\t Canada         &  4\\\\\n",
       "\t Egypt          &  4\\\\\n",
       "\t Germany        &  4\\\\\n",
       "\t Hong Kong      &  4\\\\\n",
       "\t Malaysia       &  4\\\\\n",
       "\t India          &  3\\\\\n",
       "\t Ivory Coast    &  3\\\\\n",
       "\t Nigeria        &  3\\\\\n",
       "\t Zimbabwe       &  3\\\\\n",
       "\\end{tabular}\n"
      ],
      "text/markdown": [
       "\n",
       "A tibble: 20 × 2\n",
       "\n",
       "| Acquiror nation &lt;chr&gt; | Count &lt;int&gt; |\n",
       "|---|---|\n",
       "| United States  | 40 |\n",
       "| South Africa   | 35 |\n",
       "| United Kingdom | 31 |\n",
       "| France         | 19 |\n",
       "| Mauritius      | 13 |\n",
       "| Morocco        |  7 |\n",
       "| Namibia        |  6 |\n",
       "| Netherlands    |  6 |\n",
       "| Switzerland    |  5 |\n",
       "| Utd Arab Em    |  5 |\n",
       "| Australia      |  4 |\n",
       "| Canada         |  4 |\n",
       "| Egypt          |  4 |\n",
       "| Germany        |  4 |\n",
       "| Hong Kong      |  4 |\n",
       "| Malaysia       |  4 |\n",
       "| India          |  3 |\n",
       "| Ivory Coast    |  3 |\n",
       "| Nigeria        |  3 |\n",
       "| Zimbabwe       |  3 |\n",
       "\n"
      ],
      "text/plain": [
       "   Acquiror nation Count\n",
       "1  United States   40   \n",
       "2  South Africa    35   \n",
       "3  United Kingdom  31   \n",
       "4  France          19   \n",
       "5  Mauritius       13   \n",
       "6  Morocco          7   \n",
       "7  Namibia          6   \n",
       "8  Netherlands      6   \n",
       "9  Switzerland      5   \n",
       "10 Utd Arab Em      5   \n",
       "11 Australia        4   \n",
       "12 Canada           4   \n",
       "13 Egypt            4   \n",
       "14 Germany          4   \n",
       "15 Hong Kong        4   \n",
       "16 Malaysia         4   \n",
       "17 India            3   \n",
       "18 Ivory Coast      3   \n",
       "19 Nigeria          3   \n",
       "20 Zimbabwe         3   "
      ]
     },
     "metadata": {},
     "output_type": "display_data"
    }
   ],
   "source": [
    "group.a.nat  <-  takeovers %>% group_by(a.nat) %>% summarise(n=n());\n",
    "group.a.nat  <- group.a.nat[order(group.a.nat$n,decreasing=TRUE),] %>% filter(n>2)\n",
    "names(group.a.nat) <- c(\"Acquiror nation\", \"Count\")\n",
    "group.a.nat\n",
    "names(group.a.nat) <- c(\"a.nat\", \"n\")\n"
   ]
  },
  {
   "cell_type": "markdown",
   "metadata": {},
   "source": [
    "Seeing this it is apparent that the US (40), UK (31) and France (19) are the 3 nations outside of Africa  heavily involved in takeovers of African companies. Other major takeover nations within Africa are Mauritius (13) and South Africa (35). \n",
    "*Possible reasons*\n",
    "Until recently South Africa's economy was the largest in Africa, so their takeover tally might be expected. Mauritius has drawn much invest in recent years due to its very favourable tax laws. It could be that expatriated companies are becoming involved in takeovers of African companies to domicile themselves in Mauritius.\n",
    "The large number of takeovers from US, UK and France may reflect the history between nations and also the value being offered by African countries over the last 5 years.\n",
    "\n",
    "Looking at the target nations: (only nations with 3 or more takeovers are listed)"
   ]
  },
  {
   "cell_type": "code",
   "execution_count": 6,
   "metadata": {},
   "outputs": [
    {
     "data": {
      "text/html": [
       "<table class=\"dataframe\">\n",
       "<caption>A tibble: 14 × 2</caption>\n",
       "<thead>\n",
       "\t<tr><th scope=col>Target nation</th><th scope=col>Count</th></tr>\n",
       "\t<tr><th scope=col>&lt;chr&gt;</th><th scope=col>&lt;int&gt;</th></tr>\n",
       "</thead>\n",
       "<tbody>\n",
       "\t<tr><td>South Africa</td><td>79</td></tr>\n",
       "\t<tr><td>Egypt       </td><td>29</td></tr>\n",
       "\t<tr><td>Nigeria     </td><td>22</td></tr>\n",
       "\t<tr><td>Kenya       </td><td>21</td></tr>\n",
       "\t<tr><td>Mauritius   </td><td> 9</td></tr>\n",
       "\t<tr><td>Tanzania    </td><td> 8</td></tr>\n",
       "\t<tr><td>Morocco     </td><td> 7</td></tr>\n",
       "\t<tr><td>Namibia     </td><td> 7</td></tr>\n",
       "\t<tr><td>Ghana       </td><td> 5</td></tr>\n",
       "\t<tr><td>Tunisia     </td><td> 5</td></tr>\n",
       "\t<tr><td>Senegal     </td><td> 4</td></tr>\n",
       "\t<tr><td>Botswana    </td><td> 3</td></tr>\n",
       "\t<tr><td>Ivory Coast </td><td> 3</td></tr>\n",
       "\t<tr><td>Liberia     </td><td> 3</td></tr>\n",
       "</tbody>\n",
       "</table>\n"
      ],
      "text/latex": [
       "A tibble: 14 × 2\n",
       "\\begin{tabular}{ll}\n",
       " Target nation & Count\\\\\n",
       " <chr> & <int>\\\\\n",
       "\\hline\n",
       "\t South Africa & 79\\\\\n",
       "\t Egypt        & 29\\\\\n",
       "\t Nigeria      & 22\\\\\n",
       "\t Kenya        & 21\\\\\n",
       "\t Mauritius    &  9\\\\\n",
       "\t Tanzania     &  8\\\\\n",
       "\t Morocco      &  7\\\\\n",
       "\t Namibia      &  7\\\\\n",
       "\t Ghana        &  5\\\\\n",
       "\t Tunisia      &  5\\\\\n",
       "\t Senegal      &  4\\\\\n",
       "\t Botswana     &  3\\\\\n",
       "\t Ivory Coast  &  3\\\\\n",
       "\t Liberia      &  3\\\\\n",
       "\\end{tabular}\n"
      ],
      "text/markdown": [
       "\n",
       "A tibble: 14 × 2\n",
       "\n",
       "| Target nation &lt;chr&gt; | Count &lt;int&gt; |\n",
       "|---|---|\n",
       "| South Africa | 79 |\n",
       "| Egypt        | 29 |\n",
       "| Nigeria      | 22 |\n",
       "| Kenya        | 21 |\n",
       "| Mauritius    |  9 |\n",
       "| Tanzania     |  8 |\n",
       "| Morocco      |  7 |\n",
       "| Namibia      |  7 |\n",
       "| Ghana        |  5 |\n",
       "| Tunisia      |  5 |\n",
       "| Senegal      |  4 |\n",
       "| Botswana     |  3 |\n",
       "| Ivory Coast  |  3 |\n",
       "| Liberia      |  3 |\n",
       "\n"
      ],
      "text/plain": [
       "   Target nation Count\n",
       "1  South Africa  79   \n",
       "2  Egypt         29   \n",
       "3  Nigeria       22   \n",
       "4  Kenya         21   \n",
       "5  Mauritius      9   \n",
       "6  Tanzania       8   \n",
       "7  Morocco        7   \n",
       "8  Namibia        7   \n",
       "9  Ghana          5   \n",
       "10 Tunisia        5   \n",
       "11 Senegal        4   \n",
       "12 Botswana       3   \n",
       "13 Ivory Coast    3   \n",
       "14 Liberia        3   "
      ]
     },
     "metadata": {},
     "output_type": "display_data"
    }
   ],
   "source": [
    "group.t.nat  <-  takeovers %>% group_by(t.nat) %>% summarise(n=n());\n",
    "group.t.nat  <- group.t.nat[order(group.t.nat$n,decreasing=TRUE),] %>% filter(n>2)\n",
    "names(group.t.nat) <- c(\"Target nation\", \"Count\")\n",
    "group.t.nat\n",
    "names(group.t.nat) <- c(\"t.nat\", \"n\")\n"
   ]
  },
  {
   "cell_type": "markdown",
   "metadata": {},
   "source": [
    "Here, one can see that there are four major countries in Africa facing the lion share of corporate takeovers.\n",
    "The nations are SA, Nigeria, Egypt and Kenya. Between them South Africa has nearly 3 times the number of takeovers as the second highest contender, Egypt and it takes the 2nd (Egypt),3rd (Nigeria) and 4th (Kenya) contenders to match the number of takeovers in South Africa. This seems to reflect a case of distress amongst companies in South Africa, that there should be so many targeted companies for takeover."
   ]
  },
  {
   "cell_type": "markdown",
   "metadata": {},
   "source": [
    "Now, look at the country specific relation between acquiror and target nations. Only nations with 3 or more takeovers are listed."
   ]
  },
  {
   "cell_type": "code",
   "execution_count": 7,
   "metadata": {},
   "outputs": [
    {
     "name": "stderr",
     "output_type": "stream",
     "text": [
      "`summarise()` has grouped output by 'a.nat'. You can override using the `.groups` argument.\n",
      "\n"
     ]
    },
    {
     "data": {
      "text/html": [
       "<table class=\"dataframe\">\n",
       "<caption>A grouped_df: 25 × 3</caption>\n",
       "<thead>\n",
       "\t<tr><th scope=col>Acquiror nation</th><th scope=col>Target nation</th><th scope=col>Tally</th></tr>\n",
       "\t<tr><th scope=col>&lt;chr&gt;</th><th scope=col>&lt;chr&gt;</th><th scope=col>&lt;int&gt;</th></tr>\n",
       "</thead>\n",
       "<tbody>\n",
       "\t<tr><td>United States </td><td>South Africa</td><td>17</td></tr>\n",
       "\t<tr><td>South Africa  </td><td>South Africa</td><td>14</td></tr>\n",
       "\t<tr><td>United Kingdom</td><td>South Africa</td><td>11</td></tr>\n",
       "\t<tr><td>United States </td><td>Kenya       </td><td> 7</td></tr>\n",
       "\t<tr><td>Mauritius     </td><td>South Africa</td><td> 6</td></tr>\n",
       "\t<tr><td>United States </td><td>Egypt       </td><td> 6</td></tr>\n",
       "\t<tr><td>France        </td><td>South Africa</td><td> 5</td></tr>\n",
       "\t<tr><td>Namibia       </td><td>Namibia     </td><td> 5</td></tr>\n",
       "\t<tr><td>South Africa  </td><td>Kenya       </td><td> 5</td></tr>\n",
       "\t<tr><td>South Africa  </td><td>Mauritius   </td><td> 5</td></tr>\n",
       "\t<tr><td>South Africa  </td><td>Nigeria     </td><td> 5</td></tr>\n",
       "\t<tr><td>Utd Arab Em   </td><td>Egypt       </td><td> 5</td></tr>\n",
       "\t<tr><td>Hong Kong     </td><td>South Africa</td><td> 4</td></tr>\n",
       "\t<tr><td>Mauritius     </td><td>Nigeria     </td><td> 4</td></tr>\n",
       "\t<tr><td>United Kingdom</td><td>Egypt       </td><td> 4</td></tr>\n",
       "\t<tr><td>United Kingdom</td><td>Nigeria     </td><td> 4</td></tr>\n",
       "\t<tr><td>United States </td><td>Nigeria     </td><td> 4</td></tr>\n",
       "\t<tr><td>Australia     </td><td>South Africa</td><td> 3</td></tr>\n",
       "\t<tr><td>Canada        </td><td>South Africa</td><td> 3</td></tr>\n",
       "\t<tr><td>Egypt         </td><td>Egypt       </td><td> 3</td></tr>\n",
       "\t<tr><td>France        </td><td>Kenya       </td><td> 3</td></tr>\n",
       "\t<tr><td>France        </td><td>Tunisia     </td><td> 3</td></tr>\n",
       "\t<tr><td>Germany       </td><td>South Africa</td><td> 3</td></tr>\n",
       "\t<tr><td>Morocco       </td><td>Morocco     </td><td> 3</td></tr>\n",
       "\t<tr><td>United Kingdom</td><td>Tanzania    </td><td> 3</td></tr>\n",
       "</tbody>\n",
       "</table>\n"
      ],
      "text/latex": [
       "A grouped\\_df: 25 × 3\n",
       "\\begin{tabular}{lll}\n",
       " Acquiror nation & Target nation & Tally\\\\\n",
       " <chr> & <chr> & <int>\\\\\n",
       "\\hline\n",
       "\t United States  & South Africa & 17\\\\\n",
       "\t South Africa   & South Africa & 14\\\\\n",
       "\t United Kingdom & South Africa & 11\\\\\n",
       "\t United States  & Kenya        &  7\\\\\n",
       "\t Mauritius      & South Africa &  6\\\\\n",
       "\t United States  & Egypt        &  6\\\\\n",
       "\t France         & South Africa &  5\\\\\n",
       "\t Namibia        & Namibia      &  5\\\\\n",
       "\t South Africa   & Kenya        &  5\\\\\n",
       "\t South Africa   & Mauritius    &  5\\\\\n",
       "\t South Africa   & Nigeria      &  5\\\\\n",
       "\t Utd Arab Em    & Egypt        &  5\\\\\n",
       "\t Hong Kong      & South Africa &  4\\\\\n",
       "\t Mauritius      & Nigeria      &  4\\\\\n",
       "\t United Kingdom & Egypt        &  4\\\\\n",
       "\t United Kingdom & Nigeria      &  4\\\\\n",
       "\t United States  & Nigeria      &  4\\\\\n",
       "\t Australia      & South Africa &  3\\\\\n",
       "\t Canada         & South Africa &  3\\\\\n",
       "\t Egypt          & Egypt        &  3\\\\\n",
       "\t France         & Kenya        &  3\\\\\n",
       "\t France         & Tunisia      &  3\\\\\n",
       "\t Germany        & South Africa &  3\\\\\n",
       "\t Morocco        & Morocco      &  3\\\\\n",
       "\t United Kingdom & Tanzania     &  3\\\\\n",
       "\\end{tabular}\n"
      ],
      "text/markdown": [
       "\n",
       "A grouped_df: 25 × 3\n",
       "\n",
       "| Acquiror nation &lt;chr&gt; | Target nation &lt;chr&gt; | Tally &lt;int&gt; |\n",
       "|---|---|---|\n",
       "| United States  | South Africa | 17 |\n",
       "| South Africa   | South Africa | 14 |\n",
       "| United Kingdom | South Africa | 11 |\n",
       "| United States  | Kenya        |  7 |\n",
       "| Mauritius      | South Africa |  6 |\n",
       "| United States  | Egypt        |  6 |\n",
       "| France         | South Africa |  5 |\n",
       "| Namibia        | Namibia      |  5 |\n",
       "| South Africa   | Kenya        |  5 |\n",
       "| South Africa   | Mauritius    |  5 |\n",
       "| South Africa   | Nigeria      |  5 |\n",
       "| Utd Arab Em    | Egypt        |  5 |\n",
       "| Hong Kong      | South Africa |  4 |\n",
       "| Mauritius      | Nigeria      |  4 |\n",
       "| United Kingdom | Egypt        |  4 |\n",
       "| United Kingdom | Nigeria      |  4 |\n",
       "| United States  | Nigeria      |  4 |\n",
       "| Australia      | South Africa |  3 |\n",
       "| Canada         | South Africa |  3 |\n",
       "| Egypt          | Egypt        |  3 |\n",
       "| France         | Kenya        |  3 |\n",
       "| France         | Tunisia      |  3 |\n",
       "| Germany        | South Africa |  3 |\n",
       "| Morocco        | Morocco      |  3 |\n",
       "| United Kingdom | Tanzania     |  3 |\n",
       "\n"
      ],
      "text/plain": [
       "   Acquiror nation Target nation Tally\n",
       "1  United States   South Africa  17   \n",
       "2  South Africa    South Africa  14   \n",
       "3  United Kingdom  South Africa  11   \n",
       "4  United States   Kenya          7   \n",
       "5  Mauritius       South Africa   6   \n",
       "6  United States   Egypt          6   \n",
       "7  France          South Africa   5   \n",
       "8  Namibia         Namibia        5   \n",
       "9  South Africa    Kenya          5   \n",
       "10 South Africa    Mauritius      5   \n",
       "11 South Africa    Nigeria        5   \n",
       "12 Utd Arab Em     Egypt          5   \n",
       "13 Hong Kong       South Africa   4   \n",
       "14 Mauritius       Nigeria        4   \n",
       "15 United Kingdom  Egypt          4   \n",
       "16 United Kingdom  Nigeria        4   \n",
       "17 United States   Nigeria        4   \n",
       "18 Australia       South Africa   3   \n",
       "19 Canada          South Africa   3   \n",
       "20 Egypt           Egypt          3   \n",
       "21 France          Kenya          3   \n",
       "22 France          Tunisia        3   \n",
       "23 Germany         South Africa   3   \n",
       "24 Morocco         Morocco        3   \n",
       "25 United Kingdom  Tanzania       3   "
      ]
     },
     "metadata": {},
     "output_type": "display_data"
    }
   ],
   "source": [
    "group.t.nat.a.nat <- takeovers %>% group_by(a.nat,t.nat) %>% summarise(n=n());\n",
    "group.t.nat.a.nat <- group.t.nat.a.nat[order(group.t.nat.a.nat$n,decreasing = TRUE),] %>% filter(n>2) \n",
    "names(group.t.nat.a.nat) <- c(\"Acquiror nation\",\"Target nation\",\"Tally\");group.t.nat.a.nat\n",
    "names(group.t.nat.a.nat) <- c(\"a.nat\",\"t.nat\",\"n\")"
   ]
  },
  {
   "cell_type": "markdown",
   "metadata": {},
   "source": [
    "*Acquirors*"
   ]
  },
  {
   "cell_type": "code",
   "execution_count": 8,
   "metadata": {},
   "outputs": [
    {
     "data": {
      "text/html": [
       "<style>\n",
       ".list-inline {list-style: none; margin:0; padding: 0}\n",
       ".list-inline>li {display: inline-block}\n",
       ".list-inline>li:not(:last-child)::after {content: \"\\00b7\"; padding: 0 .5ex}\n",
       "</style>\n",
       "<ol class=list-inline><li>'Australia'</li><li>'Canada'</li><li>'Egypt'</li><li>'France'</li><li>'Germany'</li><li>'Hong Kong'</li><li>'Mauritius'</li><li>'Morocco'</li><li>'Namibia'</li><li>'South Africa'</li><li>'United Kingdom'</li><li>'United States'</li><li>'Utd Arab Em'</li></ol>\n"
      ],
      "text/latex": [
       "\\begin{enumerate*}\n",
       "\\item 'Australia'\n",
       "\\item 'Canada'\n",
       "\\item 'Egypt'\n",
       "\\item 'France'\n",
       "\\item 'Germany'\n",
       "\\item 'Hong Kong'\n",
       "\\item 'Mauritius'\n",
       "\\item 'Morocco'\n",
       "\\item 'Namibia'\n",
       "\\item 'South Africa'\n",
       "\\item 'United Kingdom'\n",
       "\\item 'United States'\n",
       "\\item 'Utd Arab Em'\n",
       "\\end{enumerate*}\n"
      ],
      "text/markdown": [
       "1. 'Australia'\n",
       "2. 'Canada'\n",
       "3. 'Egypt'\n",
       "4. 'France'\n",
       "5. 'Germany'\n",
       "6. 'Hong Kong'\n",
       "7. 'Mauritius'\n",
       "8. 'Morocco'\n",
       "9. 'Namibia'\n",
       "10. 'South Africa'\n",
       "11. 'United Kingdom'\n",
       "12. 'United States'\n",
       "13. 'Utd Arab Em'\n",
       "\n",
       "\n"
      ],
      "text/plain": [
       " [1] \"Australia\"      \"Canada\"         \"Egypt\"          \"France\"        \n",
       " [5] \"Germany\"        \"Hong Kong\"      \"Mauritius\"      \"Morocco\"       \n",
       " [9] \"Namibia\"        \"South Africa\"   \"United Kingdom\" \"United States\" \n",
       "[13] \"Utd Arab Em\"   "
      ]
     },
     "metadata": {},
     "output_type": "display_data"
    }
   ],
   "source": [
    "acquirors <- levels(as.factor(group.t.nat.a.nat$a.nat));acquirors"
   ]
  },
  {
   "cell_type": "markdown",
   "metadata": {},
   "source": [
    "*Targets*"
   ]
  },
  {
   "cell_type": "code",
   "execution_count": 9,
   "metadata": {},
   "outputs": [
    {
     "data": {
      "text/html": [
       "<style>\n",
       ".list-inline {list-style: none; margin:0; padding: 0}\n",
       ".list-inline>li {display: inline-block}\n",
       ".list-inline>li:not(:last-child)::after {content: \"\\00b7\"; padding: 0 .5ex}\n",
       "</style>\n",
       "<ol class=list-inline><li>'Egypt'</li><li>'Kenya'</li><li>'Mauritius'</li><li>'Morocco'</li><li>'Namibia'</li><li>'Nigeria'</li><li>'South Africa'</li><li>'Tanzania'</li><li>'Tunisia'</li></ol>\n"
      ],
      "text/latex": [
       "\\begin{enumerate*}\n",
       "\\item 'Egypt'\n",
       "\\item 'Kenya'\n",
       "\\item 'Mauritius'\n",
       "\\item 'Morocco'\n",
       "\\item 'Namibia'\n",
       "\\item 'Nigeria'\n",
       "\\item 'South Africa'\n",
       "\\item 'Tanzania'\n",
       "\\item 'Tunisia'\n",
       "\\end{enumerate*}\n"
      ],
      "text/markdown": [
       "1. 'Egypt'\n",
       "2. 'Kenya'\n",
       "3. 'Mauritius'\n",
       "4. 'Morocco'\n",
       "5. 'Namibia'\n",
       "6. 'Nigeria'\n",
       "7. 'South Africa'\n",
       "8. 'Tanzania'\n",
       "9. 'Tunisia'\n",
       "\n",
       "\n"
      ],
      "text/plain": [
       "[1] \"Egypt\"        \"Kenya\"        \"Mauritius\"    \"Morocco\"      \"Namibia\"     \n",
       "[6] \"Nigeria\"      \"South Africa\" \"Tanzania\"     \"Tunisia\"     "
      ]
     },
     "metadata": {},
     "output_type": "display_data"
    }
   ],
   "source": [
    "targets <- levels(as.factor(group.t.nat.a.nat$t.nat));targets"
   ]
  },
  {
   "cell_type": "markdown",
   "metadata": {},
   "source": [
    "Now these relationships can be plotted with a directed graph."
   ]
  },
  {
   "cell_type": "code",
   "execution_count": 10,
   "metadata": {},
   "outputs": [],
   "source": [
    "reg <- ftM2graphNEL(ft = as.matrix(group.t.nat.a.nat[,-3]), edgemode=\"directed\")"
   ]
  },
  {
   "cell_type": "markdown",
   "metadata": {},
   "source": [
    "The edges of the graph can be numbered, although formatting needs to be worked on because the numbers are too small to see in the graph."
   ]
  },
  {
   "cell_type": "code",
   "execution_count": 11,
   "metadata": {},
   "outputs": [
    {
     "data": {
      "image/png": "[encoded data removed]",
      "text/plain": [
       "plot without title"
      ]
     },
     "metadata": {
      "image/png": {
       "height": 420,
       "width": 420
      }
     },
     "output_type": "display_data"
    }
   ],
   "source": [
    "ew <- as.character(group.t.nat.a.nat$n)\n",
    "names(ew) <- edgeNames(reg)\n",
    "#edgeNames(reg)\n",
    "eAttrs <- list()\n",
    "eAttrs$label <- ew\n",
    "plot(reg,edgeAttrs=eAttrs)"
   ]
  },
  {
   "cell_type": "markdown",
   "metadata": {},
   "source": [
    "Due to time constraints on the author the analysis will end here."
   ]
  }
 ],
 "metadata": {
  "celltoolbar": "Slideshow",
  "kernelspec": {
   "display_name": "R",
   "language": "R",
   "name": "ir"
  },
  "language_info": {
   "codemirror_mode": "r",
   "file_extension": ".r",
   "mimetype": "text/x-r-source",
   "name": "R",
   "pygments_lexer": "r",
   "version": "3.6.3"
  },
  "widgets": {
   "application/vnd.jupyter.widget-state+json": {
    "state": {},
    "version_major": 2,
    "version_minor": 0
   }
  }
 },
 "nbformat": 4,
 "nbformat_minor": 4
}
